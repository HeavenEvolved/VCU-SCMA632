{
 "cells": [
  {
   "cell_type": "markdown",
   "id": "bf732eed",
   "metadata": {},
   "source": [
    "# **Imports**"
   ]
  },
  {
   "cell_type": "code",
   "execution_count": 1,
   "id": "cadde091",
   "metadata": {},
   "outputs": [],
   "source": [
    "import pandas as pd\n",
    "import numpy as np\n",
    "import matplotlib.pyplot as plt\n",
    "from statsmodels.stats import weightstats as stats "
   ]
  },
  {
   "cell_type": "markdown",
   "id": "a0912eb1",
   "metadata": {},
   "source": [
    "# **Set Paths**"
   ]
  },
  {
   "cell_type": "code",
   "execution_count": 2,
   "id": "22bf54ee",
   "metadata": {},
   "outputs": [
    {
     "name": "stdout",
     "output_type": "stream",
     "text": [
      "c:\\Users\\ujjwa\\Documents\\VCU\\Pre-Course\\SCMA632\\Assignments\\A1\\Python c:\\Users\\ujjwa\\Documents\\VCU\\Pre-Course\\SCMA632\\Assignments\\A1\\Python\\datasets\n"
     ]
    }
   ],
   "source": [
    "import os\n",
    "BASE = os.getcwd()\n",
    "DATA = os.path.join(BASE, 'datasets')\n",
    "print(BASE, DATA)"
   ]
  },
  {
   "cell_type": "markdown",
   "id": "81a17b15",
   "metadata": {},
   "source": [
    "# **Load Main Dataset**"
   ]
  },
  {
   "cell_type": "code",
   "execution_count": 3,
   "id": "f3e417fa",
   "metadata": {},
   "outputs": [],
   "source": [
    "data_file_name = 'NSSO68.csv'\n",
    "data_file = os.path.join(DATA, data_file_name)\n",
    "\n",
    "df = pd.read_csv(data_file, encoding='latin1', low_memory=False, index_col='slno')"
   ]
  },
  {
   "cell_type": "code",
   "execution_count": 4,
   "id": "f8a04780",
   "metadata": {},
   "outputs": [
    {
     "data": {
      "text/html": [
       "<div>\n",
       "<style scoped>\n",
       "    .dataframe tbody tr th:only-of-type {\n",
       "        vertical-align: middle;\n",
       "    }\n",
       "\n",
       "    .dataframe tbody tr th {\n",
       "        vertical-align: top;\n",
       "    }\n",
       "\n",
       "    .dataframe thead th {\n",
       "        text-align: right;\n",
       "    }\n",
       "</style>\n",
       "<table border=\"1\" class=\"dataframe\">\n",
       "  <thead>\n",
       "    <tr style=\"text-align: right;\">\n",
       "      <th></th>\n",
       "      <th>grp</th>\n",
       "      <th>Round_Centre</th>\n",
       "      <th>FSU_number</th>\n",
       "      <th>Round</th>\n",
       "      <th>Schedule_Number</th>\n",
       "      <th>Sample</th>\n",
       "      <th>Sector</th>\n",
       "      <th>state</th>\n",
       "      <th>State_Region</th>\n",
       "      <th>District</th>\n",
       "      <th>...</th>\n",
       "      <th>pickle_v</th>\n",
       "      <th>sauce_jam_v</th>\n",
       "      <th>Othrprocessed_v</th>\n",
       "      <th>Beveragestotal_v</th>\n",
       "      <th>foodtotal_v</th>\n",
       "      <th>foodtotal_q</th>\n",
       "      <th>state_1</th>\n",
       "      <th>Region</th>\n",
       "      <th>fruits_df_tt_v</th>\n",
       "      <th>fv_tot</th>\n",
       "    </tr>\n",
       "    <tr>\n",
       "      <th>slno</th>\n",
       "      <th></th>\n",
       "      <th></th>\n",
       "      <th></th>\n",
       "      <th></th>\n",
       "      <th></th>\n",
       "      <th></th>\n",
       "      <th></th>\n",
       "      <th></th>\n",
       "      <th></th>\n",
       "      <th></th>\n",
       "      <th></th>\n",
       "      <th></th>\n",
       "      <th></th>\n",
       "      <th></th>\n",
       "      <th></th>\n",
       "      <th></th>\n",
       "      <th></th>\n",
       "      <th></th>\n",
       "      <th></th>\n",
       "      <th></th>\n",
       "      <th></th>\n",
       "    </tr>\n",
       "  </thead>\n",
       "  <tbody>\n",
       "    <tr>\n",
       "      <th>1</th>\n",
       "      <td>4.10E+31</td>\n",
       "      <td>1</td>\n",
       "      <td>41000</td>\n",
       "      <td>68</td>\n",
       "      <td>10</td>\n",
       "      <td>1</td>\n",
       "      <td>2</td>\n",
       "      <td>24</td>\n",
       "      <td>242</td>\n",
       "      <td>7</td>\n",
       "      <td>...</td>\n",
       "      <td>0.0</td>\n",
       "      <td>0.0</td>\n",
       "      <td>0.0</td>\n",
       "      <td>0.000000</td>\n",
       "      <td>1141.492400</td>\n",
       "      <td>30.942394</td>\n",
       "      <td>GUJ</td>\n",
       "      <td>2</td>\n",
       "      <td>12.000000</td>\n",
       "      <td>154.18</td>\n",
       "    </tr>\n",
       "    <tr>\n",
       "      <th>2</th>\n",
       "      <td>4.10E+31</td>\n",
       "      <td>1</td>\n",
       "      <td>41000</td>\n",
       "      <td>68</td>\n",
       "      <td>10</td>\n",
       "      <td>1</td>\n",
       "      <td>2</td>\n",
       "      <td>24</td>\n",
       "      <td>242</td>\n",
       "      <td>7</td>\n",
       "      <td>...</td>\n",
       "      <td>0.0</td>\n",
       "      <td>0.0</td>\n",
       "      <td>0.0</td>\n",
       "      <td>17.500000</td>\n",
       "      <td>1244.553500</td>\n",
       "      <td>29.286153</td>\n",
       "      <td>GUJ</td>\n",
       "      <td>2</td>\n",
       "      <td>333.000000</td>\n",
       "      <td>484.95</td>\n",
       "    </tr>\n",
       "    <tr>\n",
       "      <th>3</th>\n",
       "      <td>4.10E+31</td>\n",
       "      <td>1</td>\n",
       "      <td>41000</td>\n",
       "      <td>68</td>\n",
       "      <td>10</td>\n",
       "      <td>1</td>\n",
       "      <td>2</td>\n",
       "      <td>24</td>\n",
       "      <td>242</td>\n",
       "      <td>7</td>\n",
       "      <td>...</td>\n",
       "      <td>0.0</td>\n",
       "      <td>0.0</td>\n",
       "      <td>0.0</td>\n",
       "      <td>0.000000</td>\n",
       "      <td>1050.315400</td>\n",
       "      <td>31.527046</td>\n",
       "      <td>GUJ</td>\n",
       "      <td>2</td>\n",
       "      <td>35.000000</td>\n",
       "      <td>214.84</td>\n",
       "    </tr>\n",
       "    <tr>\n",
       "      <th>4</th>\n",
       "      <td>4.10E+31</td>\n",
       "      <td>1</td>\n",
       "      <td>41000</td>\n",
       "      <td>68</td>\n",
       "      <td>10</td>\n",
       "      <td>1</td>\n",
       "      <td>2</td>\n",
       "      <td>24</td>\n",
       "      <td>242</td>\n",
       "      <td>7</td>\n",
       "      <td>...</td>\n",
       "      <td>0.0</td>\n",
       "      <td>0.0</td>\n",
       "      <td>0.0</td>\n",
       "      <td>33.333333</td>\n",
       "      <td>1142.591667</td>\n",
       "      <td>27.834607</td>\n",
       "      <td>GUJ</td>\n",
       "      <td>2</td>\n",
       "      <td>168.333333</td>\n",
       "      <td>302.30</td>\n",
       "    </tr>\n",
       "    <tr>\n",
       "      <th>5</th>\n",
       "      <td>4.10E+31</td>\n",
       "      <td>1</td>\n",
       "      <td>41000</td>\n",
       "      <td>68</td>\n",
       "      <td>10</td>\n",
       "      <td>1</td>\n",
       "      <td>2</td>\n",
       "      <td>24</td>\n",
       "      <td>242</td>\n",
       "      <td>7</td>\n",
       "      <td>...</td>\n",
       "      <td>0.0</td>\n",
       "      <td>0.0</td>\n",
       "      <td>0.0</td>\n",
       "      <td>75.000000</td>\n",
       "      <td>945.249500</td>\n",
       "      <td>27.600713</td>\n",
       "      <td>GUJ</td>\n",
       "      <td>2</td>\n",
       "      <td>15.000000</td>\n",
       "      <td>148.00</td>\n",
       "    </tr>\n",
       "  </tbody>\n",
       "</table>\n",
       "<p>5 rows × 383 columns</p>\n",
       "</div>"
      ],
      "text/plain": [
       "           grp  Round_Centre  FSU_number  Round  Schedule_Number  Sample  \\\n",
       "slno                                                                       \n",
       "1     4.10E+31             1       41000     68               10       1   \n",
       "2     4.10E+31             1       41000     68               10       1   \n",
       "3     4.10E+31             1       41000     68               10       1   \n",
       "4     4.10E+31             1       41000     68               10       1   \n",
       "5     4.10E+31             1       41000     68               10       1   \n",
       "\n",
       "      Sector  state  State_Region  District  ...  pickle_v  sauce_jam_v  \\\n",
       "slno                                         ...                          \n",
       "1          2     24           242         7  ...       0.0          0.0   \n",
       "2          2     24           242         7  ...       0.0          0.0   \n",
       "3          2     24           242         7  ...       0.0          0.0   \n",
       "4          2     24           242         7  ...       0.0          0.0   \n",
       "5          2     24           242         7  ...       0.0          0.0   \n",
       "\n",
       "      Othrprocessed_v  Beveragestotal_v  foodtotal_v  foodtotal_q  state_1  \\\n",
       "slno                                                                         \n",
       "1                 0.0          0.000000  1141.492400    30.942394      GUJ   \n",
       "2                 0.0         17.500000  1244.553500    29.286153      GUJ   \n",
       "3                 0.0          0.000000  1050.315400    31.527046      GUJ   \n",
       "4                 0.0         33.333333  1142.591667    27.834607      GUJ   \n",
       "5                 0.0         75.000000   945.249500    27.600713      GUJ   \n",
       "\n",
       "      Region  fruits_df_tt_v  fv_tot  \n",
       "slno                                  \n",
       "1          2       12.000000  154.18  \n",
       "2          2      333.000000  484.95  \n",
       "3          2       35.000000  214.84  \n",
       "4          2      168.333333  302.30  \n",
       "5          2       15.000000  148.00  \n",
       "\n",
       "[5 rows x 383 columns]"
      ]
     },
     "execution_count": 4,
     "metadata": {},
     "output_type": "execute_result"
    }
   ],
   "source": [
    "df.head()"
   ]
  },
  {
   "cell_type": "markdown",
   "id": "acb298f8",
   "metadata": {},
   "source": [
    "# **Drop Unnecessary Attributes**"
   ]
  },
  {
   "cell_type": "code",
   "execution_count": 5,
   "id": "100f90eb",
   "metadata": {},
   "outputs": [],
   "source": [
    "# Keeping only the relevant columns\n",
    "relevant_columns = [\n",
    "    'state',\n",
    "    'state_1', \n",
    "    'District', \n",
    "    'Region', \n",
    "    'Sector', \n",
    "    'State_Region', \n",
    "    'Meals_At_Home', \n",
    "    'ricetotal_v', \n",
    "    'wheattotal_v', \n",
    "    'Milktotal_v', \n",
    "    'pulsestot_v', \n",
    "    'nonvegtotal_v', \n",
    "    'fruitstt_v', \n",
    "    'No_of_Meals_per_day'\n",
    "]\n",
    "\n",
    "df.drop(columns=[col for col in df.columns if col not in relevant_columns], inplace=True)"
   ]
  },
  {
   "cell_type": "markdown",
   "id": "4d983b07",
   "metadata": {},
   "source": [
    "# **Filter for assigned State**"
   ]
  },
  {
   "cell_type": "code",
   "execution_count": 6,
   "id": "aad7297a",
   "metadata": {},
   "outputs": [],
   "source": [
    "# MEGHALAYA State Code: 17\n",
    "df_meghalaya = df[df['state'] == 17]\n",
    "del df"
   ]
  },
  {
   "cell_type": "code",
   "execution_count": 7,
   "id": "3c743b10",
   "metadata": {},
   "outputs": [
    {
     "data": {
      "text/html": [
       "<div>\n",
       "<style scoped>\n",
       "    .dataframe tbody tr th:only-of-type {\n",
       "        vertical-align: middle;\n",
       "    }\n",
       "\n",
       "    .dataframe tbody tr th {\n",
       "        vertical-align: top;\n",
       "    }\n",
       "\n",
       "    .dataframe thead th {\n",
       "        text-align: right;\n",
       "    }\n",
       "</style>\n",
       "<table border=\"1\" class=\"dataframe\">\n",
       "  <thead>\n",
       "    <tr style=\"text-align: right;\">\n",
       "      <th></th>\n",
       "      <th>Sector</th>\n",
       "      <th>state</th>\n",
       "      <th>State_Region</th>\n",
       "      <th>District</th>\n",
       "      <th>No_of_Meals_per_day</th>\n",
       "      <th>Meals_At_Home</th>\n",
       "      <th>ricetotal_v</th>\n",
       "      <th>wheattotal_v</th>\n",
       "      <th>pulsestot_v</th>\n",
       "      <th>Milktotal_v</th>\n",
       "      <th>nonvegtotal_v</th>\n",
       "      <th>fruitstt_v</th>\n",
       "      <th>state_1</th>\n",
       "      <th>Region</th>\n",
       "    </tr>\n",
       "    <tr>\n",
       "      <th>slno</th>\n",
       "      <th></th>\n",
       "      <th></th>\n",
       "      <th></th>\n",
       "      <th></th>\n",
       "      <th></th>\n",
       "      <th></th>\n",
       "      <th></th>\n",
       "      <th></th>\n",
       "      <th></th>\n",
       "      <th></th>\n",
       "      <th></th>\n",
       "      <th></th>\n",
       "      <th></th>\n",
       "      <th></th>\n",
       "    </tr>\n",
       "  </thead>\n",
       "  <tbody>\n",
       "    <tr>\n",
       "      <th>17686</th>\n",
       "      <td>2</td>\n",
       "      <td>17</td>\n",
       "      <td>171</td>\n",
       "      <td>6</td>\n",
       "      <td>2.0</td>\n",
       "      <td>60.0</td>\n",
       "      <td>184.666667</td>\n",
       "      <td>23.333333</td>\n",
       "      <td>106.666667</td>\n",
       "      <td>164.0</td>\n",
       "      <td>0</td>\n",
       "      <td>0</td>\n",
       "      <td>MEG</td>\n",
       "      <td>1</td>\n",
       "    </tr>\n",
       "    <tr>\n",
       "      <th>17687</th>\n",
       "      <td>2</td>\n",
       "      <td>17</td>\n",
       "      <td>171</td>\n",
       "      <td>6</td>\n",
       "      <td>2.0</td>\n",
       "      <td>60.0</td>\n",
       "      <td>134.000000</td>\n",
       "      <td>17.600000</td>\n",
       "      <td>55.400000</td>\n",
       "      <td>207.0</td>\n",
       "      <td>0</td>\n",
       "      <td>0</td>\n",
       "      <td>MEG</td>\n",
       "      <td>1</td>\n",
       "    </tr>\n",
       "    <tr>\n",
       "      <th>17688</th>\n",
       "      <td>2</td>\n",
       "      <td>17</td>\n",
       "      <td>171</td>\n",
       "      <td>6</td>\n",
       "      <td>2.0</td>\n",
       "      <td>60.0</td>\n",
       "      <td>143.000000</td>\n",
       "      <td>12.000000</td>\n",
       "      <td>42.000000</td>\n",
       "      <td>217.5</td>\n",
       "      <td>0</td>\n",
       "      <td>0</td>\n",
       "      <td>MEG</td>\n",
       "      <td>1</td>\n",
       "    </tr>\n",
       "    <tr>\n",
       "      <th>17689</th>\n",
       "      <td>2</td>\n",
       "      <td>17</td>\n",
       "      <td>171</td>\n",
       "      <td>6</td>\n",
       "      <td>2.0</td>\n",
       "      <td>60.0</td>\n",
       "      <td>76.666667</td>\n",
       "      <td>64.000000</td>\n",
       "      <td>62.000000</td>\n",
       "      <td>100.0</td>\n",
       "      <td>0</td>\n",
       "      <td>0</td>\n",
       "      <td>MEG</td>\n",
       "      <td>1</td>\n",
       "    </tr>\n",
       "    <tr>\n",
       "      <th>17690</th>\n",
       "      <td>2</td>\n",
       "      <td>17</td>\n",
       "      <td>171</td>\n",
       "      <td>6</td>\n",
       "      <td>2.0</td>\n",
       "      <td>60.0</td>\n",
       "      <td>183.000000</td>\n",
       "      <td>10.666667</td>\n",
       "      <td>34.000000</td>\n",
       "      <td>50.0</td>\n",
       "      <td>0</td>\n",
       "      <td>0</td>\n",
       "      <td>MEG</td>\n",
       "      <td>1</td>\n",
       "    </tr>\n",
       "  </tbody>\n",
       "</table>\n",
       "</div>"
      ],
      "text/plain": [
       "       Sector  state  State_Region  District  No_of_Meals_per_day  \\\n",
       "slno                                                                \n",
       "17686       2     17           171         6                  2.0   \n",
       "17687       2     17           171         6                  2.0   \n",
       "17688       2     17           171         6                  2.0   \n",
       "17689       2     17           171         6                  2.0   \n",
       "17690       2     17           171         6                  2.0   \n",
       "\n",
       "       Meals_At_Home  ricetotal_v  wheattotal_v  pulsestot_v  Milktotal_v  \\\n",
       "slno                                                                        \n",
       "17686           60.0   184.666667     23.333333   106.666667        164.0   \n",
       "17687           60.0   134.000000     17.600000    55.400000        207.0   \n",
       "17688           60.0   143.000000     12.000000    42.000000        217.5   \n",
       "17689           60.0    76.666667     64.000000    62.000000        100.0   \n",
       "17690           60.0   183.000000     10.666667    34.000000         50.0   \n",
       "\n",
       "       nonvegtotal_v  fruitstt_v state_1  Region  \n",
       "slno                                              \n",
       "17686              0           0     MEG       1  \n",
       "17687              0           0     MEG       1  \n",
       "17688              0           0     MEG       1  \n",
       "17689              0           0     MEG       1  \n",
       "17690              0           0     MEG       1  "
      ]
     },
     "execution_count": 7,
     "metadata": {},
     "output_type": "execute_result"
    }
   ],
   "source": [
    "df_meghalaya.head()"
   ]
  },
  {
   "cell_type": "markdown",
   "id": "fdb49bc4",
   "metadata": {},
   "source": [
    "# **Save Filtered Dataset**"
   ]
  },
  {
   "cell_type": "code",
   "execution_count": 8,
   "id": "73c43b3c",
   "metadata": {},
   "outputs": [],
   "source": [
    "df_meghalaya.reset_index(inplace=True)\n",
    "df_meghalaya.drop(columns=['slno'], inplace=True)\n",
    "df_meghalaya.index.name = 'slno'\n",
    "\n",
    "my_data_file_name = 'meghalaya_NSSO68.csv'\n",
    "df_meghalaya.to_csv(os.path.join(DATA, my_data_file_name))"
   ]
  },
  {
   "cell_type": "code",
   "execution_count": 9,
   "id": "7e4f195b",
   "metadata": {},
   "outputs": [
    {
     "name": "stdout",
     "output_type": "stream",
     "text": [
      "<class 'pandas.core.frame.DataFrame'>\n",
      "RangeIndex: 1259 entries, 0 to 1258\n",
      "Data columns (total 14 columns):\n",
      " #   Column               Non-Null Count  Dtype  \n",
      "---  ------               --------------  -----  \n",
      " 0   Sector               1259 non-null   int64  \n",
      " 1   state                1259 non-null   int64  \n",
      " 2   State_Region         1259 non-null   int64  \n",
      " 3   District             1259 non-null   int64  \n",
      " 4   No_of_Meals_per_day  1258 non-null   float64\n",
      " 5   Meals_At_Home        1251 non-null   float64\n",
      " 6   ricetotal_v          1259 non-null   float64\n",
      " 7   wheattotal_v         1259 non-null   float64\n",
      " 8   pulsestot_v          1259 non-null   float64\n",
      " 9   Milktotal_v          1259 non-null   float64\n",
      " 10  nonvegtotal_v        1259 non-null   int64  \n",
      " 11  fruitstt_v           1259 non-null   int64  \n",
      " 12  state_1              1259 non-null   object \n",
      " 13  Region               1259 non-null   int64  \n",
      "dtypes: float64(6), int64(7), object(1)\n",
      "memory usage: 137.8+ KB\n"
     ]
    }
   ],
   "source": [
    "df_meghalaya.info()"
   ]
  },
  {
   "cell_type": "markdown",
   "id": "f9f6cc4d",
   "metadata": {},
   "source": [
    "# **Impute Null Values**"
   ]
  },
  {
   "cell_type": "code",
   "execution_count": 10,
   "id": "4bb0bb6f",
   "metadata": {},
   "outputs": [
    {
     "name": "stdout",
     "output_type": "stream",
     "text": [
      "No_of_Meals_per_day: 1 null values\n",
      "Meals_At_Home: 8 null values\n"
     ]
    }
   ],
   "source": [
    "for column in df_meghalaya.columns:\n",
    "    null_c = df_meghalaya[column].isnull().sum()\n",
    "    if null_c > 0:\n",
    "        df_meghalaya[column] = df_meghalaya[column].fillna(df_meghalaya[column].mean())\n",
    "        print(f\"{column}: {null_c} null values\")"
   ]
  },
  {
   "cell_type": "code",
   "execution_count": 11,
   "id": "3b32552a",
   "metadata": {},
   "outputs": [
    {
     "name": "stdout",
     "output_type": "stream",
     "text": [
      "<class 'pandas.core.frame.DataFrame'>\n",
      "RangeIndex: 1259 entries, 0 to 1258\n",
      "Data columns (total 14 columns):\n",
      " #   Column               Non-Null Count  Dtype  \n",
      "---  ------               --------------  -----  \n",
      " 0   Sector               1259 non-null   int64  \n",
      " 1   state                1259 non-null   int64  \n",
      " 2   State_Region         1259 non-null   int64  \n",
      " 3   District             1259 non-null   int64  \n",
      " 4   No_of_Meals_per_day  1259 non-null   float64\n",
      " 5   Meals_At_Home        1259 non-null   float64\n",
      " 6   ricetotal_v          1259 non-null   float64\n",
      " 7   wheattotal_v         1259 non-null   float64\n",
      " 8   pulsestot_v          1259 non-null   float64\n",
      " 9   Milktotal_v          1259 non-null   float64\n",
      " 10  nonvegtotal_v        1259 non-null   int64  \n",
      " 11  fruitstt_v           1259 non-null   int64  \n",
      " 12  state_1              1259 non-null   object \n",
      " 13  Region               1259 non-null   int64  \n",
      "dtypes: float64(6), int64(7), object(1)\n",
      "memory usage: 137.8+ KB\n"
     ]
    }
   ],
   "source": [
    "df_meghalaya.info()"
   ]
  },
  {
   "cell_type": "markdown",
   "id": "c36cb07a",
   "metadata": {},
   "source": [
    "# **Handle Outliers in Consumption Columns**"
   ]
  },
  {
   "cell_type": "code",
   "execution_count": 12,
   "id": "ddb47983",
   "metadata": {},
   "outputs": [],
   "source": [
    "consumption_columns = [\n",
    "    'ricetotal_v', \n",
    "    'wheattotal_v', \n",
    "    'Milktotal_v', \n",
    "    'pulsestot_v', \n",
    "    'nonvegtotal_v', \n",
    "    'fruitstt_v'\n",
    "]"
   ]
  },
  {
   "cell_type": "code",
   "execution_count": 13,
   "id": "f7409dda",
   "metadata": {},
   "outputs": [],
   "source": [
    "def check_outliers():\n",
    "    # Create subplots to show boxplots for each consumption column\n",
    "    fig, axes = plt.subplots(nrows=3, ncols=2, figsize=(15, 10))\n",
    "\n",
    "    for ax, column in zip(axes.flatten(), consumption_columns):\n",
    "        df_meghalaya.boxplot(column=column, ax=ax)\n",
    "        ax.set_title(f'Boxplot of {column}')\n",
    "        ax.set_ylabel('Consumption (kg/month)')\n",
    "        ax.set_xlabel('')\n",
    "        \n",
    "    plt.tight_layout()"
   ]
  },
  {
   "cell_type": "code",
   "execution_count": 14,
   "id": "eb88c02c",
   "metadata": {},
   "outputs": [],
   "source": [
    "def remove_outliers(df, column):\n",
    "    q1 = df[column].quantile(0.25)\n",
    "    q3 = df[column].quantile(0.75)\n",
    "    iqr = q3 - q1\n",
    "    lower_bound = q1 - 1.5 * iqr\n",
    "    upper_bound = q3 + 1.5 * iqr\n",
    "    return df[(df[column] >= lower_bound) & (df[column] <= upper_bound)]"
   ]
  },
  {
   "cell_type": "code",
   "execution_count": 15,
   "id": "998d39e0",
   "metadata": {},
   "outputs": [
    {
     "data": {
      "image/png": "[encoded data removed]",
      "text/plain": [
       "<Figure size 1500x1000 with 6 Axes>"
      ]
     },
     "metadata": {},
     "output_type": "display_data"
    }
   ],
   "source": [
    "check_outliers()"
   ]
  },
  {
   "cell_type": "code",
   "execution_count": 16,
   "id": "ddeee975",
   "metadata": {},
   "outputs": [],
   "source": [
    "for column in consumption_columns:\n",
    "    df_meghalaya = remove_outliers(df_meghalaya, column)"
   ]
  },
  {
   "cell_type": "code",
   "execution_count": 17,
   "id": "03b4dfa5",
   "metadata": {},
   "outputs": [
    {
     "data": {
      "image/png": "[encoded data removed]",
      "text/plain": [
       "<Figure size 1500x1000 with 6 Axes>"
      ]
     },
     "metadata": {},
     "output_type": "display_data"
    }
   ],
   "source": [
    "check_outliers()"
   ]
  },
  {
   "cell_type": "markdown",
   "id": "0ba4ffa3",
   "metadata": {},
   "source": [
    "# **Create Total Consumption Column**"
   ]
  },
  {
   "cell_type": "code",
   "execution_count": 18,
   "id": "60502928",
   "metadata": {},
   "outputs": [],
   "source": [
    "df_meghalaya['total_consumption'] = df_meghalaya[consumption_columns].sum(axis=1)"
   ]
  },
  {
   "cell_type": "markdown",
   "id": "d32b9003",
   "metadata": {},
   "source": [
    "# **Descriptive Statistics for Total Consumption by District, Region and Sector**"
   ]
  },
  {
   "cell_type": "code",
   "execution_count": 19,
   "id": "d4edfe87",
   "metadata": {},
   "outputs": [],
   "source": [
    "def summarize_consumption(df, column):\n",
    "    summary = df.groupby(column)['total_consumption'].agg(['mean', 'std', 'count', 'sum'])\n",
    "    summary.sort_values(by='sum', ascending=False, inplace=True)\n",
    "    return summary"
   ]
  },
  {
   "cell_type": "code",
   "execution_count": 20,
   "id": "eb1a6cae",
   "metadata": {},
   "outputs": [],
   "source": [
    "district = summarize_consumption(df_meghalaya, 'District')\n",
    "region = summarize_consumption(df_meghalaya, 'Region')\n",
    "sector = summarize_consumption(df_meghalaya, 'Sector')"
   ]
  },
  {
   "cell_type": "code",
   "execution_count": 21,
   "id": "a4fa920c",
   "metadata": {},
   "outputs": [
    {
     "data": {
      "text/html": [
       "<div>\n",
       "<style scoped>\n",
       "    .dataframe tbody tr th:only-of-type {\n",
       "        vertical-align: middle;\n",
       "    }\n",
       "\n",
       "    .dataframe tbody tr th {\n",
       "        vertical-align: top;\n",
       "    }\n",
       "\n",
       "    .dataframe thead th {\n",
       "        text-align: right;\n",
       "    }\n",
       "</style>\n",
       "<table border=\"1\" class=\"dataframe\">\n",
       "  <thead>\n",
       "    <tr style=\"text-align: right;\">\n",
       "      <th></th>\n",
       "      <th>mean</th>\n",
       "      <th>std</th>\n",
       "      <th>count</th>\n",
       "      <th>sum</th>\n",
       "    </tr>\n",
       "    <tr>\n",
       "      <th>District</th>\n",
       "      <th></th>\n",
       "      <th></th>\n",
       "      <th></th>\n",
       "      <th></th>\n",
       "    </tr>\n",
       "  </thead>\n",
       "  <tbody>\n",
       "    <tr>\n",
       "      <th>6</th>\n",
       "      <td>252.803981</td>\n",
       "      <td>84.999005</td>\n",
       "      <td>278</td>\n",
       "      <td>70279.506711</td>\n",
       "    </tr>\n",
       "    <tr>\n",
       "      <th>1</th>\n",
       "      <td>246.921321</td>\n",
       "      <td>57.750705</td>\n",
       "      <td>217</td>\n",
       "      <td>53581.926745</td>\n",
       "    </tr>\n",
       "    <tr>\n",
       "      <th>4</th>\n",
       "      <td>233.520032</td>\n",
       "      <td>66.973293</td>\n",
       "      <td>156</td>\n",
       "      <td>36429.124914</td>\n",
       "    </tr>\n",
       "    <tr>\n",
       "      <th>7</th>\n",
       "      <td>210.077068</td>\n",
       "      <td>60.312979</td>\n",
       "      <td>150</td>\n",
       "      <td>31511.560204</td>\n",
       "    </tr>\n",
       "    <tr>\n",
       "      <th>5</th>\n",
       "      <td>239.591631</td>\n",
       "      <td>69.144585</td>\n",
       "      <td>123</td>\n",
       "      <td>29469.770635</td>\n",
       "    </tr>\n",
       "  </tbody>\n",
       "</table>\n",
       "</div>"
      ],
      "text/plain": [
       "                mean        std  count           sum\n",
       "District                                            \n",
       "6         252.803981  84.999005    278  70279.506711\n",
       "1         246.921321  57.750705    217  53581.926745\n",
       "4         233.520032  66.973293    156  36429.124914\n",
       "7         210.077068  60.312979    150  31511.560204\n",
       "5         239.591631  69.144585    123  29469.770635"
      ]
     },
     "execution_count": 21,
     "metadata": {},
     "output_type": "execute_result"
    }
   ],
   "source": [
    "district.head()"
   ]
  },
  {
   "cell_type": "code",
   "execution_count": 22,
   "id": "e1f7ab25",
   "metadata": {},
   "outputs": [
    {
     "data": {
      "text/html": [
       "<div>\n",
       "<style scoped>\n",
       "    .dataframe tbody tr th:only-of-type {\n",
       "        vertical-align: middle;\n",
       "    }\n",
       "\n",
       "    .dataframe tbody tr th {\n",
       "        vertical-align: top;\n",
       "    }\n",
       "\n",
       "    .dataframe thead th {\n",
       "        text-align: right;\n",
       "    }\n",
       "</style>\n",
       "<table border=\"1\" class=\"dataframe\">\n",
       "  <thead>\n",
       "    <tr style=\"text-align: right;\">\n",
       "      <th></th>\n",
       "      <th>mean</th>\n",
       "      <th>std</th>\n",
       "      <th>count</th>\n",
       "      <th>sum</th>\n",
       "    </tr>\n",
       "    <tr>\n",
       "      <th>District</th>\n",
       "      <th></th>\n",
       "      <th></th>\n",
       "      <th></th>\n",
       "      <th></th>\n",
       "    </tr>\n",
       "  </thead>\n",
       "  <tbody>\n",
       "    <tr>\n",
       "      <th>4</th>\n",
       "      <td>233.520032</td>\n",
       "      <td>66.973293</td>\n",
       "      <td>156</td>\n",
       "      <td>36429.124914</td>\n",
       "    </tr>\n",
       "    <tr>\n",
       "      <th>7</th>\n",
       "      <td>210.077068</td>\n",
       "      <td>60.312979</td>\n",
       "      <td>150</td>\n",
       "      <td>31511.560204</td>\n",
       "    </tr>\n",
       "    <tr>\n",
       "      <th>5</th>\n",
       "      <td>239.591631</td>\n",
       "      <td>69.144585</td>\n",
       "      <td>123</td>\n",
       "      <td>29469.770635</td>\n",
       "    </tr>\n",
       "    <tr>\n",
       "      <th>2</th>\n",
       "      <td>249.809759</td>\n",
       "      <td>57.745596</td>\n",
       "      <td>113</td>\n",
       "      <td>28228.502778</td>\n",
       "    </tr>\n",
       "    <tr>\n",
       "      <th>3</th>\n",
       "      <td>245.927895</td>\n",
       "      <td>53.155398</td>\n",
       "      <td>81</td>\n",
       "      <td>19920.159488</td>\n",
       "    </tr>\n",
       "  </tbody>\n",
       "</table>\n",
       "</div>"
      ],
      "text/plain": [
       "                mean        std  count           sum\n",
       "District                                            \n",
       "4         233.520032  66.973293    156  36429.124914\n",
       "7         210.077068  60.312979    150  31511.560204\n",
       "5         239.591631  69.144585    123  29469.770635\n",
       "2         249.809759  57.745596    113  28228.502778\n",
       "3         245.927895  53.155398     81  19920.159488"
      ]
     },
     "execution_count": 22,
     "metadata": {},
     "output_type": "execute_result"
    }
   ],
   "source": [
    "district.tail()"
   ]
  },
  {
   "cell_type": "markdown",
   "id": "eff835c3",
   "metadata": {},
   "source": [
    "# **Map District and Sector to their Names/Labels**"
   ]
  },
  {
   "cell_type": "code",
   "execution_count": 23,
   "id": "c9f922c0",
   "metadata": {},
   "outputs": [],
   "source": [
    "dist_st_map = {\n",
    "    1: 'West Garo Hills',\n",
    "    2: 'East Garo Hills',\n",
    "    3: 'South Garo Hills',\n",
    "    4: 'West Khasi Hills',\n",
    "    5: 'Ri Bhoi',\n",
    "    6: 'East Khasi Hills',\n",
    "    7: 'Jaintia Hills',\n",
    "}\n",
    "\n",
    "sector_map = {\n",
    "    1: 'Rural',\n",
    "    2: 'Urban'\n",
    "}\n",
    "\n",
    "df_meghalaya['District'] = df_meghalaya['District'].map(dist_st_map)\n",
    "df_meghalaya['Sector'] = df_meghalaya['Sector'].map(sector_map)"
   ]
  },
  {
   "cell_type": "code",
   "execution_count": 24,
   "id": "c99a31ad",
   "metadata": {},
   "outputs": [],
   "source": [
    "district = summarize_consumption(df_meghalaya, 'District')\n",
    "region = summarize_consumption(df_meghalaya, 'Region')\n",
    "sector = summarize_consumption(df_meghalaya, 'Sector')"
   ]
  },
  {
   "cell_type": "code",
   "execution_count": 25,
   "id": "bfefdb25",
   "metadata": {},
   "outputs": [
    {
     "data": {
      "text/html": [
       "<div>\n",
       "<style scoped>\n",
       "    .dataframe tbody tr th:only-of-type {\n",
       "        vertical-align: middle;\n",
       "    }\n",
       "\n",
       "    .dataframe tbody tr th {\n",
       "        vertical-align: top;\n",
       "    }\n",
       "\n",
       "    .dataframe thead th {\n",
       "        text-align: right;\n",
       "    }\n",
       "</style>\n",
       "<table border=\"1\" class=\"dataframe\">\n",
       "  <thead>\n",
       "    <tr style=\"text-align: right;\">\n",
       "      <th></th>\n",
       "      <th>mean</th>\n",
       "      <th>std</th>\n",
       "      <th>count</th>\n",
       "      <th>sum</th>\n",
       "    </tr>\n",
       "    <tr>\n",
       "      <th>District</th>\n",
       "      <th></th>\n",
       "      <th></th>\n",
       "      <th></th>\n",
       "      <th></th>\n",
       "    </tr>\n",
       "  </thead>\n",
       "  <tbody>\n",
       "    <tr>\n",
       "      <th>East Khasi Hills</th>\n",
       "      <td>252.803981</td>\n",
       "      <td>84.999005</td>\n",
       "      <td>278</td>\n",
       "      <td>70279.506711</td>\n",
       "    </tr>\n",
       "    <tr>\n",
       "      <th>West Garo Hills</th>\n",
       "      <td>246.921321</td>\n",
       "      <td>57.750705</td>\n",
       "      <td>217</td>\n",
       "      <td>53581.926745</td>\n",
       "    </tr>\n",
       "    <tr>\n",
       "      <th>West Khasi Hills</th>\n",
       "      <td>233.520032</td>\n",
       "      <td>66.973293</td>\n",
       "      <td>156</td>\n",
       "      <td>36429.124914</td>\n",
       "    </tr>\n",
       "    <tr>\n",
       "      <th>Jaintia Hills</th>\n",
       "      <td>210.077068</td>\n",
       "      <td>60.312979</td>\n",
       "      <td>150</td>\n",
       "      <td>31511.560204</td>\n",
       "    </tr>\n",
       "    <tr>\n",
       "      <th>Ri Bhoi</th>\n",
       "      <td>239.591631</td>\n",
       "      <td>69.144585</td>\n",
       "      <td>123</td>\n",
       "      <td>29469.770635</td>\n",
       "    </tr>\n",
       "    <tr>\n",
       "      <th>East Garo Hills</th>\n",
       "      <td>249.809759</td>\n",
       "      <td>57.745596</td>\n",
       "      <td>113</td>\n",
       "      <td>28228.502778</td>\n",
       "    </tr>\n",
       "    <tr>\n",
       "      <th>South Garo Hills</th>\n",
       "      <td>245.927895</td>\n",
       "      <td>53.155398</td>\n",
       "      <td>81</td>\n",
       "      <td>19920.159488</td>\n",
       "    </tr>\n",
       "  </tbody>\n",
       "</table>\n",
       "</div>"
      ],
      "text/plain": [
       "                        mean        std  count           sum\n",
       "District                                                    \n",
       "East Khasi Hills  252.803981  84.999005    278  70279.506711\n",
       "West Garo Hills   246.921321  57.750705    217  53581.926745\n",
       "West Khasi Hills  233.520032  66.973293    156  36429.124914\n",
       "Jaintia Hills     210.077068  60.312979    150  31511.560204\n",
       "Ri Bhoi           239.591631  69.144585    123  29469.770635\n",
       "East Garo Hills   249.809759  57.745596    113  28228.502778\n",
       "South Garo Hills  245.927895  53.155398     81  19920.159488"
      ]
     },
     "execution_count": 25,
     "metadata": {},
     "output_type": "execute_result"
    }
   ],
   "source": [
    "district"
   ]
  },
  {
   "cell_type": "markdown",
   "id": "cea94ab6",
   "metadata": {},
   "source": [
    "# **Hypothesis Testing using Z-Test as n > 30**"
   ]
  },
  {
   "cell_type": "code",
   "execution_count": 26,
   "id": "682f9949",
   "metadata": {},
   "outputs": [],
   "source": [
    "urban = df_meghalaya[df_meghalaya['Sector'] == 'Urban']['total_consumption']\n",
    "rural = df_meghalaya[df_meghalaya['Sector'] == 'Rural']['total_consumption']\n",
    "\n",
    "sector_z_stat, sector_p_value = stats.ztest(urban, rural, alternative='two-sided')"
   ]
  },
  {
   "cell_type": "code",
   "execution_count": 27,
   "id": "a09ee325",
   "metadata": {},
   "outputs": [
    {
     "name": "stdout",
     "output_type": "stream",
     "text": [
      "9.694123490133885\n",
      "3.1936802464159697e-22\n"
     ]
    }
   ],
   "source": [
    "print(sector_z_stat)\n",
    "print(sector_p_value)"
   ]
  },
  {
   "cell_type": "code",
   "execution_count": 28,
   "id": "48676a73",
   "metadata": {},
   "outputs": [
    {
     "name": "stdout",
     "output_type": "stream",
     "text": [
      "There is a significant difference in total consumption between Urban and Rural sectors. Reject the null hypothesis.\n"
     ]
    }
   ],
   "source": [
    "if sector_p_value < 0.05:\n",
    "    print(\"There is a significant difference in total consumption between Urban and Rural sectors. Reject the null hypothesis.\")\n",
    "else:\n",
    "    print(\"There is no significant difference in total consumption between Urban and Rural sectors. Failed to reject the null hypothesis.\")"
   ]
  },
  {
   "cell_type": "code",
   "execution_count": 29,
   "id": "c43dc4dd",
   "metadata": {},
   "outputs": [],
   "source": [
    "top_dist = df_meghalaya[df_meghalaya['District'] == district.iloc[0].name]['total_consumption']\n",
    "bottom_dist = df_meghalaya[df_meghalaya['District'] == district.iloc[-1].name]['total_consumption']\n",
    "\n",
    "dist_z_stat, dist_p_value = stats.ztest(top_dist, bottom_dist, alternative='two-sided')"
   ]
  },
  {
   "cell_type": "code",
   "execution_count": 30,
   "id": "a7eb64d6",
   "metadata": {},
   "outputs": [
    {
     "name": "stdout",
     "output_type": "stream",
     "text": [
      "0.6894487608044243\n",
      "0.49054090737260336\n"
     ]
    }
   ],
   "source": [
    "print(dist_z_stat)\n",
    "print(dist_p_value)"
   ]
  },
  {
   "cell_type": "code",
   "execution_count": 31,
   "id": "47e3ed4a",
   "metadata": {},
   "outputs": [
    {
     "name": "stdout",
     "output_type": "stream",
     "text": [
      "There is no significant difference in total consumption between the top and bottom districts. Failed to reject the null hypothesis.\n"
     ]
    }
   ],
   "source": [
    "if dist_p_value < 0.05:\n",
    "    print(\"There is a significant difference in total consumption between the top and bottom districts. Reject the null hypothesis.\")\n",
    "else:\n",
    "    print(\"There is no significant difference in total consumption between the top and bottom districts. Failed to reject the null hypothesis.\")"
   ]
  }
 ],
 "metadata": {
  "kernelspec": {
   "display_name": "ml",
   "language": "python",
   "name": "python3"
  },
  "language_info": {
   "codemirror_mode": {
    "name": "ipython",
    "version": 3
   },
   "file_extension": ".py",
   "mimetype": "text/x-python",
   "name": "python",
   "nbconvert_exporter": "python",
   "pygments_lexer": "ipython3",
   "version": "3.10.0"
  }
 },
 "nbformat": 4,
 "nbformat_minor": 5
}
